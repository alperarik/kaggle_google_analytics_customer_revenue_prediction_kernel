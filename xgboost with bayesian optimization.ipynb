{
 "cells": [
  {
   "cell_type": "code",
   "execution_count": null,
   "metadata": {
    "colab": {},
    "colab_type": "code",
    "id": "NMNuXD6XElyS"
   },
   "outputs": [],
   "source": [
    "import numpy as np\n",
    "import pandas as pd\n",
    "import csv\n",
    "from tqdm import tqdm"
   ]
  },
  {
   "cell_type": "code",
   "execution_count": null,
   "metadata": {},
   "outputs": [],
   "source": [
    "#Read preprocessed data\n",
    "test = pd.read_csv('test.csv')\n",
    "X_train = pd.read_csv('X_train.csv')\n",
    "X_val = pd.read_csv('X_val.csv')\n",
    "y_train = np.load('Y_train.npy')\n",
    "y_val = np.load('Y_val.npy')\n",
    "test_ids = np.load('test_ids.npy')"
   ]
  },
  {
   "cell_type": "code",
   "execution_count": null,
   "metadata": {
    "colab": {
     "base_uri": "https://localhost:8080/",
     "height": 121
    },
    "colab_type": "code",
    "id": "5exhz5bm_CLB",
    "outputId": "e11bfc43-2846-48f3-c30c-60a306886352"
   },
   "outputs": [],
   "source": [
    "print(X_train.shape)\n",
    "print(X_val.shape)\n",
    "print(test.shape)\n",
    "print(y_train.shape)\n",
    "print(y_val.shape)\n",
    "print(test_ids.shape)"
   ]
  },
  {
   "cell_type": "code",
   "execution_count": null,
   "metadata": {
    "colab": {},
    "colab_type": "code",
    "id": "12Mp-UzwfBWS"
   },
   "outputs": [],
   "source": [
    "from sklearn.metrics import mean_squared_error\n",
    "\n",
    "def rmse(y_true, y_pred):\n",
    "    return round(np.sqrt(mean_squared_error(y_true, y_pred)), 5)"
   ]
  },
  {
   "cell_type": "code",
   "execution_count": null,
   "metadata": {
    "colab": {},
    "colab_type": "code",
    "id": "9qCUfCaG5282"
   },
   "outputs": [],
   "source": [
    "import xgboost as xgb\n",
    "import lightgbm as lgb"
   ]
  },
  {
   "cell_type": "code",
   "execution_count": null,
   "metadata": {},
   "outputs": [],
   "source": [
    "import gc\n",
    "\n",
    "from skopt.space import Real, Integer\n",
    "from skopt.utils import use_named_args\n",
    "import itertools\n",
    "from sklearn.metrics import roc_auc_score\n",
    "from skopt import gp_minimize"
   ]
  },
  {
   "cell_type": "code",
   "execution_count": null,
   "metadata": {},
   "outputs": [],
   "source": [
    "#Min max values for hyperparameters\n",
    "XGB_space = [Integer(100, 500, name='num_boost_round'),\n",
    "          Integer(100, 500, name='early_stopping_rounds'),\n",
    "          Real(0.001, 0.5, name='learning_rate'),\n",
    "          Real(0.3, 0.8,  name='bagging_fraction'),\n",
    "          Real(0.3, 0.8, name='feature_fraction')\n",
    "         ]"
   ]
  },
  {
   "cell_type": "code",
   "execution_count": null,
   "metadata": {},
   "outputs": [],
   "source": [
    "def objective(values):\n",
    "    params = {'objective': 'reg:linear',\n",
    "          'eval_metric': 'rmse',\n",
    "          'eta': values[2],\n",
    "          'subsample': values[3], # 0-1\n",
    "          'colsample_bytree': values[4], #0-1\n",
    "          'random_state': 70,\n",
    "          'silent': True}\n",
    "\n",
    "    xgb_train_data = xgb.DMatrix(X_train, y_train)\n",
    "    xgb_val_data = xgb.DMatrix(X_val, y_val)\n",
    "    xgb_submit_data = xgb.DMatrix(test)\n",
    "\n",
    "    model = xgb.train(params, xgb_train_data, \n",
    "                      num_boost_round=values[0], \n",
    "                      evals= [(xgb_train_data, 'train'), (xgb_val_data, 'valid')],\n",
    "                      early_stopping_rounds=values[1], \n",
    "                      verbose_eval=500\n",
    "                     )\n",
    "\n",
    "    y_pred_train = model.predict(xgb_train_data, ntree_limit=model.best_ntree_limit)\n",
    "    y_pred_val = model.predict(xgb_val_data, ntree_limit=model.best_ntree_limit)\n",
    "    gc.collect()\n",
    "    \n",
    "    return rmse(y_val, y_pred_val)"
   ]
  },
  {
   "cell_type": "code",
   "execution_count": null,
   "metadata": {},
   "outputs": [],
   "source": [
    "#Hyperparameter tuning (*Bayesian optimization)\n",
    "#n_calls : epoch\n",
    "res_gp = gp_minimize(objective, XGB_space, n_calls=400,\n",
    "                     random_state=70,n_random_starts=10)\n",
    "\n",
    "print(\"Best score=%.4f\" % res_gp.fun)"
   ]
  },
  {
   "cell_type": "code",
   "execution_count": null,
   "metadata": {},
   "outputs": [],
   "source": [
    "#Best hyperparameter values\n",
    "res_gp.x"
   ]
  },
  {
   "cell_type": "code",
   "execution_count": null,
   "metadata": {},
   "outputs": [],
   "source": [
    "#Least lost value from training\n",
    "res_gp.fun"
   ]
  },
  {
   "cell_type": "code",
   "execution_count": null,
   "metadata": {},
   "outputs": [],
   "source": [
    "from skopt.plots import plot_convergence\n",
    "\n",
    "plot_convergence(res_gp)"
   ]
  },
  {
   "cell_type": "code",
   "execution_count": null,
   "metadata": {},
   "outputs": [],
   "source": [
    "#Use same random_state value in Bayesian opt.\n",
    "def run_xgb(X_train, y_train, X_val, y_val, X_test, parameters):\n",
    "    #'tree_method' : 'gpu_hist'\n",
    "    params = {'objective': 'reg:linear',\n",
    "              'eval_metric': 'rmse',\n",
    "              'eta': parameters[2],\n",
    "              'subsample': parameters[3], # 0-1\n",
    "              'colsample_bytree': parameters[4], #0-1\n",
    "              'random_state': 70,\n",
    "              'silent': True}\n",
    "\n",
    "    xgb_train_data = xgb.DMatrix(X_train, y_train)\n",
    "    xgb_val_data = xgb.DMatrix(X_val, y_val)\n",
    "    xgb_submit_data = xgb.DMatrix(X_test)\n",
    "\n",
    "    model = xgb.train(params, xgb_train_data, \n",
    "                      num_boost_round=parameters[0], \n",
    "                      evals= [(xgb_train_data, 'train'), (xgb_val_data, 'valid')],\n",
    "                      early_stopping_rounds=parameters[1], \n",
    "                      verbose_eval=500\n",
    "                     )\n",
    "\n",
    "    y_pred_train = model.predict(xgb_train_data, ntree_limit=model.best_ntree_limit)\n",
    "    y_pred_val = model.predict(xgb_val_data, ntree_limit=model.best_ntree_limit)\n",
    "    y_pred_submit = model.predict(xgb_submit_data, ntree_limit=model.best_ntree_limit)\n",
    "\n",
    "    print(f\"XGB : RMSE val: {rmse(y_val, y_pred_val)}  - RMSE train: {rmse(y_train, y_pred_train)}\")\n",
    "    return y_pred_submit, model, rmse(y_val, y_pred_val), rmse(y_train, y_pred_train)"
   ]
  },
  {
   "cell_type": "code",
   "execution_count": null,
   "metadata": {},
   "outputs": [],
   "source": [
    "#Train with tuned hyperparameters\n",
    "xgb_preds, xgb_model, rmse_val, rmse_train = run_xgb(X_train, y_train, X_val, y_val, test, res_gp.x)"
   ]
  },
  {
   "cell_type": "code",
   "execution_count": null,
   "metadata": {
    "colab": {},
    "colab_type": "code",
    "id": "VuVp1GtA6P01"
   },
   "outputs": [],
   "source": [
    "predictions={\n",
    "    'xgb_preds' : xgb_preds\n",
    "}"
   ]
  },
  {
   "cell_type": "code",
   "execution_count": null,
   "metadata": {
    "colab": {},
    "colab_type": "code",
    "id": "UiGFItcTqPIM"
   },
   "outputs": [],
   "source": [
    "for k,v in predictions.items():\n",
    "  submission = pd.DataFrame({\"fullVisitorId\":test_ids})\n",
    "  v[v<0] = 0\n",
    "  submission[\"PredictedLogRevenue\"] = v\n",
    "  submission = submission.groupby(\"fullVisitorId\")[\"PredictedLogRevenue\"].sum().reset_index()\n",
    "  submission.columns = [\"fullVisitorId\", \"PredictedLogRevenue\"]\n",
    "  submission[\"PredictedLogRevenue\"] = submission[\"PredictedLogRevenue\"]\n",
    "  submission.to_csv(\"submission_%s.csv\"%k, index=False)"
   ]
  }
 ],
 "metadata": {
  "colab": {
   "name": "Google Analytics Customer Revenue Prediction XGBoost",
   "provenance": [],
   "version": "0.3.2"
  },
  "kernelspec": {
   "display_name": "Python 3",
   "language": "python",
   "name": "python3"
  },
  "language_info": {
   "codemirror_mode": {
    "name": "ipython",
    "version": 3
   },
   "file_extension": ".py",
   "mimetype": "text/x-python",
   "name": "python",
   "nbconvert_exporter": "python",
   "pygments_lexer": "ipython3",
   "version": "3.6.6"
  }
 },
 "nbformat": 4,
 "nbformat_minor": 1
}
