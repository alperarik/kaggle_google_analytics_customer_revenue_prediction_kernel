{
 "cells": [
  {
   "cell_type": "code",
   "execution_count": null,
   "metadata": {},
   "outputs": [],
   "source": [
    "import os\n",
    "import json\n",
    "import datetime\n",
    "import numpy as np\n",
    "import pandas as pd\n",
    "import seaborn as sns\n",
    "import matplotlib.pyplot as plt\n",
    "from pandas.io.json import json_normalize\n",
    "from sklearn.metrics import mean_squared_error\n",
    "from sklearn import preprocessing\n",
    "from sklearn.model_selection import train_test_split\n",
    "from keras.models import Sequential\n",
    "from keras.layers import Dense, Dropout, BatchNormalization, Activation, Dropout, regularizers, BatchNormalization\n",
    "from keras import optimizers, initializers\n",
    "\n",
    "%matplotlib inline"
   ]
  },
  {
   "cell_type": "code",
   "execution_count": null,
   "metadata": {},
   "outputs": [],
   "source": [
    "test = pd.read_csv('../test.csv')"
   ]
  },
  {
   "cell_type": "code",
   "execution_count": null,
   "metadata": {},
   "outputs": [],
   "source": [
    "X_train = pd.read_csv('../X_train.csv')"
   ]
  },
  {
   "cell_type": "code",
   "execution_count": null,
   "metadata": {},
   "outputs": [],
   "source": [
    "X_val = pd.read_csv('../X_val.csv')"
   ]
  },
  {
   "cell_type": "code",
   "execution_count": null,
   "metadata": {
    "scrolled": true
   },
   "outputs": [],
   "source": [
    "Y_train = np.load('../Y_train.npy')"
   ]
  },
  {
   "cell_type": "code",
   "execution_count": null,
   "metadata": {},
   "outputs": [],
   "source": [
    "Y_val = np.load('../Y_val.npy')"
   ]
  },
  {
   "cell_type": "code",
   "execution_count": null,
   "metadata": {},
   "outputs": [],
   "source": [
    "def plot_metrics(loss, val_loss):\n",
    "    fig, (ax1) = plt.subplots(1, 1, sharex='col', figsize=(20,7))\n",
    "    ax1.plot(loss, label='Train loss')\n",
    "    ax1.plot(val_loss, label='Validation loss')\n",
    "    ax1.legend(loc='best')\n",
    "    ax1.set_title('Loss')\n",
    "    plt.xlabel('Epochs')"
   ]
  },
  {
   "cell_type": "code",
   "execution_count": null,
   "metadata": {},
   "outputs": [],
   "source": [
    "#Sample hyperparameters\n",
    "BATCH_SIZE = 1024\n",
    "EPOCHS = 10000\n",
    "LEARNING_RATE = 0.01\n",
    "DROPOUT = 0.50\n",
    "ACTIVITY_REGULARIZER = regularizers.l1(0.1)\n",
    "KERNEL_REGULARIZER = regularizers.l1(0.1)\n",
    "BIAS_INITIALIZER = initializers.Constant(0.1)\n",
    "ACTIVATION = 'relu'"
   ]
  },
  {
   "cell_type": "code",
   "execution_count": null,
   "metadata": {},
   "outputs": [],
   "source": [
    "#Sample model\n",
    "\n",
    "model = Sequential()\n",
    "\n",
    "model.add(Dense(128,  input_dim=X_train.shape[1], activity_regularizer=ACTIVITY_REGULARIZER, kernel_regularizer=KERNEL_REGULARIZER, bias_initializer=BIAS_INITIALIZER))\n",
    "model.add(BatchNormalization())\n",
    "model.add(Activation(ACTIVATION))\n",
    "model.add(Dropout(rate=DROPOUT))\n",
    "\n",
    "model.add(Dense(64, activity_regularizer=ACTIVITY_REGULARIZER, kernel_regularizer=KERNEL_REGULARIZER, bias_initializer=BIAS_INITIALIZER))\n",
    "model.add(BatchNormalization())\n",
    "model.add(Activation(ACTIVATION))\n",
    "model.add(Dropout(rate=DROPOUT))\n",
    "\n",
    "model.add(Dense(32, activity_regularizer=ACTIVITY_REGULARIZER, kernel_regularizer=KERNEL_REGULARIZER, bias_initializer=BIAS_INITIALIZER))\n",
    "model.add(BatchNormalization())\n",
    "model.add(Activation(ACTIVATION))\n",
    "model.add(Dropout(rate=DROPOUT))\n",
    "\n",
    "model.add(Dense(16, activity_regularizer=ACTIVITY_REGULARIZER, kernel_regularizer=KERNEL_REGULARIZER, bias_initializer=BIAS_INITIALIZER))\n",
    "model.add(BatchNormalization())\n",
    "model.add(Activation(ACTIVATION))\n",
    "model.add(Dropout(rate=DROPOUT))\n",
    "\n",
    "model.add(Dense(1))\n",
    "model.add(Activation(ACTIVATION))"
   ]
  },
  {
   "cell_type": "code",
   "execution_count": null,
   "metadata": {},
   "outputs": [],
   "source": [
    "adam = optimizers.adam(lr=LEARNING_RATE)\n",
    "model.compile(loss='mse', optimizer=adam, metrics=['mse'])"
   ]
  },
  {
   "cell_type": "code",
   "execution_count": null,
   "metadata": {},
   "outputs": [],
   "source": [
    "history = model.fit(x=X_train.values, y=Y_train, batch_size=BATCH_SIZE, epochs=EPOCHS, \n",
    "                    verbose=0, validation_data=(X_val.values, Y_val))"
   ]
  },
  {
   "cell_type": "code",
   "execution_count": null,
   "metadata": {},
   "outputs": [],
   "source": [
    "val_predictions = model.predict(X_val)\n",
    "mse = mean_squared_error(val_predictions, Y_val)\n",
    "rmse = np.sqrt(mean_squared_error(val_predictions, Y_val))\n",
    "\n",
    "print('Model validation metrics')\n",
    "print('MSE: %.2f' % mse)\n",
    "print('RMSE: %.2f' % rmse)"
   ]
  },
  {
   "cell_type": "code",
   "execution_count": null,
   "metadata": {},
   "outputs": [],
   "source": [
    "plot_metrics(history.history['loss'], history.history['val_loss'])"
   ]
  }
 ],
 "metadata": {
  "kernelspec": {
   "display_name": "Python 3",
   "language": "python",
   "name": "python3"
  },
  "language_info": {
   "codemirror_mode": {
    "name": "ipython",
    "version": 3
   },
   "file_extension": ".py",
   "mimetype": "text/x-python",
   "name": "python",
   "nbconvert_exporter": "python",
   "pygments_lexer": "ipython3",
   "version": "3.6.6"
  }
 },
 "nbformat": 4,
 "nbformat_minor": 2
}
